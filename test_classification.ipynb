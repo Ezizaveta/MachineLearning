{
 "cells": [
  {
   "cell_type": "code",
   "execution_count": 15,
   "id": "d203a61e",
   "metadata": {},
   "outputs": [],
   "source": [
    "from scipy.io import loadmat\n",
    "from sklearn.svm import SVC\n",
    "import matplotlib.pyplot as plt\n",
    "from sklearn.metrics import accuracy_score\n",
    "from sklearn.manifold import TSNE\n",
    "from sklearn.linear_model import LogisticRegression, LinearRegression\n",
    "from xgboost import XGBClassifier\n",
    "from sklearn.model_selection import train_test_split\n",
    "import pandas as pd\n",
    "import numpy as np\n",
    "from sklearn.decomposition import PCA\n",
    "import time\n",
    "from mpl_toolkits.mplot3d import Axes3D\n",
    "import seaborn as sns\n",
    "\n",
    "from sklearn.metrics import accuracy_score\n",
    "from sklearn.base import clone\n",
    "from sklearn.model_selection import KFold\n"
   ]
  },
  {
   "cell_type": "code",
   "execution_count": 3,
   "id": "62af7693",
   "metadata": {},
   "outputs": [
    {
     "name": "stdout",
     "output_type": "stream",
     "text": [
      "(60000, 784) (10000, 784)\n"
     ]
    }
   ],
   "source": [
    "mnist = loadmat(\"mnist2/mnist-original.mat\")\n",
    "x = mnist[\"data\"].T\n",
    "y = mnist[\"label\"][0]\n",
    "split = 60000\n",
    "train_x, train_y, test_x, test_y = x[:split], y[:split], x[split:], y[split:]\n",
    "print(train_x.shape, test_x.shape)\n",
    "X_01 = x[(y == 0) | (y == 1)]\n",
    "y_01 = y[(y == 0) | (y == 1)]"
   ]
  },
  {
   "cell_type": "code",
   "execution_count": 4,
   "id": "a6630fa0",
   "metadata": {},
   "outputs": [],
   "source": [
    "train_x01 = train_x[(train_y == 0) | (train_y == 1)].copy()\n",
    "train_y01 = train_y[(train_y == 0) | (train_y == 1)].copy()\n",
    "test_x01 = test_x[(test_y == 0) | (test_y == 1)].copy()\n",
    "test_y01 = test_y[(test_y == 0) | (test_y == 1)].copy()"
   ]
  },
  {
   "cell_type": "code",
   "execution_count": 5,
   "id": "bf037436",
   "metadata": {},
   "outputs": [
    {
     "name": "stdout",
     "output_type": "stream",
     "text": [
      "(12665, 784) (2115, 784)\n"
     ]
    }
   ],
   "source": [
    "print(train_x01.shape, test_x01.shape)"
   ]
  },
  {
   "cell_type": "code",
   "execution_count": 6,
   "id": "4d0a1c11",
   "metadata": {},
   "outputs": [],
   "source": [
    "def cross_validation(classifier, X, y, k, shuffle=False):\n",
    "    kf = KFold(n_splits=k, shuffle=shuffle)\n",
    "    trained_classifier = []\n",
    "    accuracy_list = []\n",
    "    for train_index, test_index in kf.split(X):\n",
    "        X_train_kfold, X_test_kfold = X[train_index], X[test_index]\n",
    "        y_train_kfold, y_test_kfold = y[train_index], y[test_index]\n",
    "        classifier_fold = clone(classifier)\n",
    "        classifier_fold.fit(X_train_kfold, y_train_kfold)\n",
    "        prediction = classifier_fold.predict(X_test_kfold)\n",
    "        accuracy = accuracy_score(y_test_kfold, prediction)\n",
    "        trained_classifier.append(classifier_fold)\n",
    "        accuracy_list.append(accuracy)\n",
    "    return trained_classifier, accuracy_list"
   ]
  },
  {
   "cell_type": "code",
   "execution_count": 7,
   "id": "4eb794df",
   "metadata": {},
   "outputs": [],
   "source": [
    "def check_classifier(classifier, X_train, y_train, X_val, y_val):\n",
    "    trained_classifier, accuracy_list = cross_validation(classifier, X_train, y_train, 5)\n",
    "    accuracy = 0.0\n",
    "    for i in range(len(accuracy_list)):\n",
    "        accuracy += accuracy_score(y_val, trained_classifier[i].predict(X_val))\n",
    "    \n",
    "    mean_accuracy = accuracy / len(accuracy_list)\n",
    "    print(accuracy_list)\n",
    "    best_classifier = trained_classifier[np.argmax(accuracy_list)]\n",
    "    return best_classifier, mean_accuracy"
   ]
  },
  {
   "cell_type": "code",
   "execution_count": 17,
   "id": "632a61d8",
   "metadata": {},
   "outputs": [
    {
     "name": "stdout",
     "output_type": "stream",
     "text": [
      "[0.9984208448480063, 0.9968416896960126, 0.9988156336360048, 0.9976312672720095, 0.9988156336360048]\n",
      "0.9989598108747046\n",
      "accuracy:  0.9990543735224586\n"
     ]
    }
   ],
   "source": [
    "#test linear boosting vs logistic regression"
   ]
  },
  {
   "cell_type": "code",
   "execution_count": 17,
   "id": "acff5968",
   "metadata": {},
   "outputs": [
    {
     "name": "stdout",
     "output_type": "stream",
     "text": [
      "time:  5.09523606300354\n",
      "score:  0.9990543735224586\n",
      "accuracy:  0.9990543735224586\n"
     ]
    }
   ],
   "source": [
    "logreg_clf = LogisticRegression(solver=\"saga\", tol=0.01)\n",
    "start = time.time()\n",
    "logreg_clf.fit(train_x01, train_y01)\n",
    "print(\"time: \", time.time() - start)\n",
    "prediction = logreg_clf.predict(test_x01)\n",
    "\n",
    "print(\"score: \", logreg_clf.score(test_x01, test_y01))"
   ]
  },
  {
   "cell_type": "code",
   "execution_count": 18,
   "id": "14a23bdd",
   "metadata": {},
   "outputs": [
    {
     "name": "stdout",
     "output_type": "stream",
     "text": [
      "time:  2.229208469390869\n",
      "score:  0.9995271867612293\n"
     ]
    }
   ],
   "source": [
    "lingb_clf = XGBClassifier(booster='gblinear')\n",
    "start = time.time()\n",
    "lingb_clf.fit(train_x01, train_y01)\n",
    "print(\"time: \", time.time() - start)\n",
    "prediction = lingb_clf.predict(test_x01)\n",
    "print(\"score: \", lingb_clf.score(test_x01, test_y01))"
   ]
  },
  {
   "cell_type": "code",
   "execution_count": null,
   "id": "7df87555",
   "metadata": {},
   "outputs": [],
   "source": []
  },
  {
   "cell_type": "code",
   "execution_count": 22,
   "id": "1fb299d8",
   "metadata": {},
   "outputs": [
    {
     "name": "stdout",
     "output_type": "stream",
     "text": [
      "time:  1.8840653896331787\n",
      "accuracy:  -482244559518.77014\n"
     ]
    }
   ],
   "source": [
    "# linreg_clf = LinearRegression()\n",
    "# start = time.time()\n",
    "# linreg_clf.fit(train_x01, train_y01)\n",
    "# print(\"time: \", time.time() - start)\n",
    "# prediction = linreg_clf.predict(test_x01)\n",
    "# print(\"accuracy: \", linreg_clf.score(test_x01, test_y01))"
   ]
  },
  {
   "cell_type": "code",
   "execution_count": null,
   "id": "961f80d9",
   "metadata": {},
   "outputs": [],
   "source": []
  }
 ],
 "metadata": {
  "kernelspec": {
   "display_name": "Python 3 (ipykernel)",
   "language": "python",
   "name": "python3"
  },
  "language_info": {
   "codemirror_mode": {
    "name": "ipython",
    "version": 3
   },
   "file_extension": ".py",
   "mimetype": "text/x-python",
   "name": "python",
   "nbconvert_exporter": "python",
   "pygments_lexer": "ipython3",
   "version": "3.10.4"
  }
 },
 "nbformat": 4,
 "nbformat_minor": 5
}
