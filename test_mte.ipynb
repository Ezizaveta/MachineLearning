{
 "cells": [
  {
   "cell_type": "code",
   "execution_count": 17,
   "id": "9585515c",
   "metadata": {},
   "outputs": [],
   "source": [
    "import numpy as np\n",
    "import pandas as pd\n",
    "import matplotlib.pyplot as plt\n",
    "import xgboost\n",
    "import math\n",
    "from scipy.stats import pearsonr\n",
    "from sklearn import linear_model\n",
    "from sklearn.model_selection import train_test_split\n",
    "from sklearn.metrics import explained_variance_score\n",
    "from feature_engine.encoding import MeanEncoder\n",
    "from sklearn.impute import SimpleImputer\n",
    "from sklearn.preprocessing import LabelEncoder\n",
    "import time"
   ]
  },
  {
   "cell_type": "code",
   "execution_count": 7,
   "id": "de0f4fc7",
   "metadata": {},
   "outputs": [],
   "source": [
    "#usual xgboost"
   ]
  },
  {
   "cell_type": "code",
   "execution_count": 12,
   "id": "f71e4611",
   "metadata": {},
   "outputs": [],
   "source": [
    "def drop_null(train, test, min_percent=0.7):\n",
    "    for feature in train.columns:\n",
    "        percent = train[feature].isnull().sum() / train.shape[0]\n",
    "        if (percent > min_percent):\n",
    "            train = train.drop(columns = feature)\n",
    "            test = test.drop(columns = feature)"
   ]
  },
  {
   "cell_type": "code",
   "execution_count": 13,
   "id": "25b99938",
   "metadata": {},
   "outputs": [],
   "source": [
    "train_data = pd.read_csv('house-prices-advanced-regression-techniques/train.csv')\n",
    "test_data = pd.read_csv('house-prices-advanced-regression-techniques/test.csv')\n",
    "\n",
    "train_data = train_data.drop(columns=[\"Id\"])\n",
    "val_ids = test_data[\"Id\"]\n",
    "test_data = test_data.drop(columns=[\"Id\"])"
   ]
  },
  {
   "cell_type": "code",
   "execution_count": null,
   "id": "e0526873",
   "metadata": {},
   "outputs": [],
   "source": [
    "drop_null(train_data, test_data, 0.95)\n",
    "for feature in train_data.columns[:-1]:\n",
    "    if train_data[feature].dtype == 'object':\n",
    "        train_data[feature] = LabelEncoder().fit_transform(train_data[feature])\n",
    "        test_data[feature] = LabelEncoder().fit_transform(test_data[feature])\n",
    "print(train_data)"
   ]
  },
  {
   "cell_type": "code",
   "execution_count": 15,
   "id": "29c19677",
   "metadata": {},
   "outputs": [],
   "source": [
    "X = train_data.drop(columns='SalePrice').values\n",
    "y = train_data['SalePrice'].values\n",
    "X_train, X_test, y_train, y_test = train_test_split(X, y, test_size=0.1, random_state=98987)"
   ]
  },
  {
   "cell_type": "code",
   "execution_count": 18,
   "id": "da375f99",
   "metadata": {},
   "outputs": [
    {
     "name": "stdout",
     "output_type": "stream",
     "text": [
      "time:  1.4064102172851562\n",
      "score:  0.9165953534789814\n",
      "RMSE: 23614.41\n"
     ]
    }
   ],
   "source": [
    "xgbr = xgboost.XGBRegressor(learning_rate=0.01, max_depth=4, n_estimators=1000)\n",
    "start = time.time()\n",
    "xgbr.fit(X_train,y_train)\n",
    "print(\"time: \", time.time() - start)\n",
    "print(\"score: \", xgbr.score(X_test,y_test))\n",
    "print(\"RMSE: %.2f\" % math.sqrt(np.mean((xgbr.predict(X_test) - y_test) ** 2)))"
   ]
  },
  {
   "cell_type": "code",
   "execution_count": null,
   "id": "46dbc3f9",
   "metadata": {},
   "outputs": [],
   "source": [
    "#xgboost with mte"
   ]
  },
  {
   "cell_type": "code",
   "execution_count": 28,
   "id": "f6973c83",
   "metadata": {},
   "outputs": [],
   "source": [
    "train_data = pd.read_csv('house-prices-advanced-regression-techniques/train.csv')\n",
    "test_data = pd.read_csv('house-prices-advanced-regression-techniques/test.csv')\n",
    "\n",
    "train_data = train_data.drop(columns=[\"Id\"])\n",
    "val_ids = test_data[\"Id\"]\n",
    "test_data = test_data.drop(columns=[\"Id\"])"
   ]
  },
  {
   "cell_type": "code",
   "execution_count": 29,
   "id": "9dadda85",
   "metadata": {},
   "outputs": [
    {
     "name": "stdout",
     "output_type": "stream",
     "text": [
      "43 ['MSZoning', 'Street', 'Alley', 'LotShape', 'LandContour', 'Utilities', 'LotConfig', 'LandSlope', 'Neighborhood', 'Condition1', 'Condition2', 'BldgType', 'HouseStyle', 'RoofStyle', 'RoofMatl', 'Exterior1st', 'Exterior2nd', 'MasVnrType', 'ExterQual', 'ExterCond', 'Foundation', 'BsmtQual', 'BsmtCond', 'BsmtExposure', 'BsmtFinType1', 'BsmtFinType2', 'Heating', 'HeatingQC', 'CentralAir', 'Electrical', 'KitchenQual', 'Functional', 'FireplaceQu', 'GarageType', 'GarageFinish', 'GarageQual', 'GarageCond', 'PavedDrive', 'PoolQC', 'Fence', 'MiscFeature', 'SaleType', 'SaleCondition']\n"
     ]
    }
   ],
   "source": [
    "drop_null(train_data, test_data, 0.7)\n",
    "cat_features = []\n",
    "iter = 0\n",
    "for feature in train_data.columns[:-1]:\n",
    "    if (train_data[feature].dtype == 'object'): cat_features.append(feature)\n",
    "    iter +=1\n",
    "print(len(cat_features), cat_features)"
   ]
  },
  {
   "cell_type": "code",
   "execution_count": 30,
   "id": "77d066ba",
   "metadata": {},
   "outputs": [
    {
     "name": "stdout",
     "output_type": "stream",
     "text": [
      "           MSZoning         Street  Alley       LotShape    LandContour  \\\n",
      "0     191004.994787  181130.538514    NaN  164754.818378  180183.746758   \n",
      "1     191004.994787  181130.538514    NaN  164754.818378  180183.746758   \n",
      "2     191004.994787  181130.538514    NaN  206101.665289  180183.746758   \n",
      "3     191004.994787  181130.538514    NaN  206101.665289  180183.746758   \n",
      "4     191004.994787  181130.538514    NaN  206101.665289  180183.746758   \n",
      "...             ...            ...    ...            ...            ...   \n",
      "1455  191004.994787  181130.538514    NaN  164754.818378  180183.746758   \n",
      "1456  191004.994787  181130.538514    NaN  164754.818378  180183.746758   \n",
      "1457  191004.994787  181130.538514    NaN  164754.818378  180183.746758   \n",
      "1458  191004.994787  181130.538514    NaN  164754.818378  180183.746758   \n",
      "1459  191004.994787  181130.538514    NaN  164754.818378  180183.746758   \n",
      "\n",
      "         Utilities      LotConfig      LandSlope   Neighborhood  \\\n",
      "0     180950.95682  176938.047529  179956.799566  197965.773333   \n",
      "1     180950.95682  177934.574468  179956.799566  238772.727273   \n",
      "2     180950.95682  176938.047529  179956.799566  197965.773333   \n",
      "3     180950.95682  181623.425856  179956.799566  210624.725490   \n",
      "4     180950.95682  177934.574468  179956.799566  335295.317073   \n",
      "...            ...            ...            ...            ...   \n",
      "1455  180950.95682  176938.047529  179956.799566  192854.506329   \n",
      "1456  180950.95682  176938.047529  179956.799566  189050.068493   \n",
      "1457  180950.95682  176938.047529  179956.799566  210624.725490   \n",
      "1458  180950.95682  176938.047529  179956.799566  145847.080000   \n",
      "1459  180950.95682  176938.047529  179956.799566  128219.700000   \n",
      "\n",
      "         Condition1  ...     GarageType   GarageFinish     GarageQual  \\\n",
      "0     184495.492063  ...  202892.656322  202068.869668  187489.836003   \n",
      "1     142475.481481  ...  202892.656322  202068.869668  187489.836003   \n",
      "2     184495.492063  ...  202892.656322  202068.869668  187489.836003   \n",
      "3     184495.492063  ...  134091.162791  142156.423140  187489.836003   \n",
      "4     184495.492063  ...  202892.656322  202068.869668  187489.836003   \n",
      "...             ...  ...            ...            ...            ...   \n",
      "1455  184495.492063  ...  202892.656322  202068.869668  187489.836003   \n",
      "1456  184495.492063  ...  202892.656322  142156.423140  187489.836003   \n",
      "1457  184495.492063  ...  202892.656322  202068.869668  187489.836003   \n",
      "1458  184495.492063  ...  202892.656322  142156.423140  187489.836003   \n",
      "1459  184495.492063  ...  202892.656322  240052.690341  187489.836003   \n",
      "\n",
      "         GarageCond     PavedDrive  PoolQC          Fence    MiscFeature  \\\n",
      "0     187885.735294  186433.973881     NaN            NaN            NaN   \n",
      "1     187885.735294  186433.973881     NaN            NaN            NaN   \n",
      "2     187885.735294  186433.973881     NaN            NaN            NaN   \n",
      "3     187885.735294  186433.973881     NaN            NaN            NaN   \n",
      "4     187885.735294  186433.973881     NaN            NaN            NaN   \n",
      "...             ...            ...     ...            ...            ...   \n",
      "1455  187885.735294  186433.973881     NaN            NaN            NaN   \n",
      "1456  187885.735294  186433.973881     NaN  148751.089172            NaN   \n",
      "1457  187885.735294  186433.973881     NaN  178927.457627  151187.612245   \n",
      "1458  187885.735294  186433.973881     NaN            NaN            NaN   \n",
      "1459  187885.735294  186433.973881     NaN            NaN            NaN   \n",
      "\n",
      "           SaleType  SaleCondition  \n",
      "0     173401.836622  175202.219533  \n",
      "1     173401.836622  175202.219533  \n",
      "2     173401.836622  175202.219533  \n",
      "3     173401.836622  146526.623762  \n",
      "4     173401.836622  175202.219533  \n",
      "...             ...            ...  \n",
      "1455  173401.836622  175202.219533  \n",
      "1456  173401.836622  175202.219533  \n",
      "1457  173401.836622  175202.219533  \n",
      "1458  173401.836622  175202.219533  \n",
      "1459  173401.836622  175202.219533  \n",
      "\n",
      "[1460 rows x 43 columns]\n"
     ]
    },
    {
     "name": "stderr",
     "output_type": "stream",
     "text": [
      "C:\\Users\\Liza-\\PycharmProjects\\pythonProject\\venv\\lib\\site-packages\\feature_engine\\encoding\\base_encoder.py:255: UserWarning: During the encoding, NaN values were introduced in the feature(s) Alley, MasVnrType, BsmtQual, BsmtCond, BsmtExposure, BsmtFinType1, BsmtFinType2, Electrical, FireplaceQu, GarageType, GarageFinish, GarageQual, GarageCond, PoolQC, Fence, MiscFeature.\n",
      "  warnings.warn(\n"
     ]
    }
   ],
   "source": [
    "tmp_df = train_data[cat_features]\n",
    "# tmp_df = SimpleImputer(strategy='most_frequent').fit_transform(tmp_df)\n",
    "me = MeanEncoder(missing_values='ignore')\n",
    "# new_X = me.fit_transform(X,y)\n",
    "me.fit(tmp_df, y)\n",
    "new_tmp = me.transform(tmp_df)\n",
    "new_tmp.columns  = cat_features\n",
    "train_data[cat_features] = new_tmp\n",
    "print(new_tmp)"
   ]
  },
  {
   "cell_type": "code",
   "execution_count": 31,
   "id": "75c5f34b",
   "metadata": {},
   "outputs": [],
   "source": [
    "X = train_data.drop(columns='SalePrice').values\n",
    "y = train_data['SalePrice'].values\n",
    "X_train, X_test, y_train, y_test = train_test_split(X, y, test_size=0.1, random_state=98987)"
   ]
  },
  {
   "cell_type": "code",
   "execution_count": 32,
   "id": "81e19100",
   "metadata": {},
   "outputs": [
    {
     "name": "stdout",
     "output_type": "stream",
     "text": [
      "time:  1.292036533355713\n",
      "score:  0.924777656132916\n",
      "RMSE: 22426.18\n"
     ]
    }
   ],
   "source": [
    "xgb_mte = xgboost.XGBRegressor(learning_rate=0.01, max_depth=4, n_estimators=1000)\n",
    "start = time.time()\n",
    "xgb_mte.fit(X_train,y_train)\n",
    "print(\"time: \", time.time() - start)\n",
    "print(\"score: \", xgb_mte.score(X_test,y_test))\n",
    "print(\"RMSE: %.2f\" % math.sqrt(np.mean((xgb_mte.predict(X_test) - y_test) ** 2)))"
   ]
  }
 ],
 "metadata": {
  "kernelspec": {
   "display_name": "Python 3 (ipykernel)",
   "language": "python",
   "name": "python3"
  },
  "language_info": {
   "codemirror_mode": {
    "name": "ipython",
    "version": 3
   },
   "file_extension": ".py",
   "mimetype": "text/x-python",
   "name": "python",
   "nbconvert_exporter": "python",
   "pygments_lexer": "ipython3",
   "version": "3.10.4"
  }
 },
 "nbformat": 4,
 "nbformat_minor": 5
}
