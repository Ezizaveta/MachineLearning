{
 "cells": [
  {
   "cell_type": "code",
   "execution_count": 1,
   "id": "90998be0",
   "metadata": {},
   "outputs": [],
   "source": [
    "import pandas as pd\n",
    "import numpy as np\n",
    "from sklearn.impute import SimpleImputer\n",
    "from sklearn.preprocessing import LabelEncoder\n",
    "from sklearn.preprocessing import StandardScaler\n",
    "from sklearn.model_selection import train_test_split\n",
    "from sklearn.model_selection import GridSearchCV\n",
    "from sklearn import metrics\n",
    "from sklearn.impute import SimpleImputer\n",
    "from catboost import CatBoostRegressor, Pool"
   ]
  },
  {
   "cell_type": "code",
   "execution_count": 3,
   "id": "1997d6e6",
   "metadata": {},
   "outputs": [],
   "source": [
    "import pandas as pd\n",
    "import numpy as np\n",
    "from sklearn.impute import SimpleImputer\n",
    "from sklearn.model_selection import train_test_split\n",
    "from sklearn import metrics\n",
    "from catboost import CatBoostRegressor, Pool\n",
    "\n",
    "train_data = pd.read_csv('house-prices-advanced-regression-techniques/train.csv')\n",
    "test_data = pd.read_csv('house-prices-advanced-regression-techniques/test.csv')\n",
    "train_data = train_data.drop(columns=[\"Id\"])\n",
    "val_ids = test_data[\"Id\"]\n",
    "test_data = test_data.drop(columns=[\"Id\"])\n",
    "\n",
    "for feature in train_data.columns:\n",
    "    percent = train_data[feature].isnull().sum() /  train_data.shape[0]\n",
    "    if (percent > 0.7):\n",
    "        train_data = train_data.drop(columns = feature)\n",
    "        test_data = test_data.drop(columns = feature)\n",
    "\n",
    "cat_features = []\n",
    "iter = 0\n",
    "for feature in train_data.columns[:-1]:\n",
    "    if (train_data[feature].dtype == 'object'): cat_features.append(iter)\n",
    "    iter +=1\n",
    "\n",
    "X_train, X_test, y_train, y_test = train_test_split(train_data.drop(columns='SalePrice').values, np.log1p(train_data['SalePrice'].values), test_size = 0.2, random_state = 98987)\n",
    "X_train = SimpleImputer(strategy='most_frequent').fit_transform(X_train)\n",
    "X_test = SimpleImputer(strategy='most_frequent').fit_transform(X_test)\n",
    "test_data = SimpleImputer(strategy='most_frequent').fit_transform(test_data)"
   ]
  },
  {
   "cell_type": "code",
   "execution_count": 4,
   "id": "b80924f9",
   "metadata": {},
   "outputs": [],
   "source": [
    "def print_rmse(y_pred, y_test):\n",
    "    mse = metrics.mean_squared_error(y_test, y_pred)\n",
    "    rmse = mse ** (1/2)\n",
    "    print(\"MSE: %.2f\" % mse)\n",
    "    print(\"RMSE: %.2f\" % rmse)\n",
    "    print('R**2:', metrics.r2_score(y_pred, y_test))\n",
    "    rmse_model2 = np.sqrt(metrics.mean_squared_error(np.log(y_test), np.log(y_pred)))\n",
    "    print('rmse log: ', rmse_model2)"
   ]
  },
  {
   "cell_type": "code",
   "execution_count": 6,
   "id": "ad4e12d1",
   "metadata": {},
   "outputs": [
    {
     "data": {
      "text/plain": [
       "<catboost.core.CatBoostRegressor at 0x22d9169fdc0>"
      ]
     },
     "execution_count": 6,
     "metadata": {},
     "output_type": "execute_result"
    }
   ],
   "source": [
    "catbr = CatBoostRegressor(cat_features=cat_features)\n",
    "train_pool = Pool(X_train, y_train, cat_features=cat_features)\n",
    "test_pool = Pool(X_test, y_test, cat_features=cat_features)\n",
    "catbr.fit(train_pool, eval_set = test_pool, verbose = 0, plot = False)"
   ]
  },
  {
   "cell_type": "code",
   "execution_count": 7,
   "id": "9c95850e",
   "metadata": {},
   "outputs": [
    {
     "name": "stdout",
     "output_type": "stream",
     "text": [
      "MSE: 0.02\n",
      "RMSE: 0.14\n",
      "R**2: 0.8510474343003671\n",
      "rmse log:  0.012137004585733187\n"
     ]
    }
   ],
   "source": [
    "y_pred = catbr.predict(X_test)\n",
    "print_rmse(y_pred, y_test)"
   ]
  },
  {
   "cell_type": "code",
   "execution_count": 8,
   "id": "d0d42d34",
   "metadata": {},
   "outputs": [],
   "source": [
    "pred_test_data = catbr.predict(test_data)\n",
    "df = pd.DataFrame({'Id':val_ids.values, 'SalePrice':pred_test_data})\n",
    "df.to_csv('catboost.csv',index=False)"
   ]
  },
  {
   "cell_type": "code",
   "execution_count": null,
   "id": "f8384946",
   "metadata": {},
   "outputs": [],
   "source": []
  }
 ],
 "metadata": {
  "kernelspec": {
   "display_name": "Python 3 (ipykernel)",
   "language": "python",
   "name": "python3"
  },
  "language_info": {
   "codemirror_mode": {
    "name": "ipython",
    "version": 3
   },
   "file_extension": ".py",
   "mimetype": "text/x-python",
   "name": "python",
   "nbconvert_exporter": "python",
   "pygments_lexer": "ipython3",
   "version": "3.10.4"
  }
 },
 "nbformat": 4,
 "nbformat_minor": 5
}
